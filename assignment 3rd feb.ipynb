{
 "cells": [
  {
   "cell_type": "code",
   "execution_count": 47,
   "id": "574c490d-7d90-4924-a7e7-cabc8ec9e349",
   "metadata": {},
   "outputs": [],
   "source": [
    "#1. def function is used to create a function\n",
    "\n",
    "l=[]\n",
    "def test():\n",
    "    for i in range(0,25):\n",
    "        if i%2==1:\n",
    "            l.append(i)\n",
    "    return l\n",
    "    \n"
   ]
  },
  {
   "cell_type": "code",
   "execution_count": 48,
   "id": "065c9d3d-32de-4fe4-ab4d-988507c345ab",
   "metadata": {},
   "outputs": [
    {
     "data": {
      "text/plain": [
       "[1, 3, 5, 7, 9, 11, 13, 15, 17, 19, 21, 23]"
      ]
     },
     "execution_count": 48,
     "metadata": {},
     "output_type": "execute_result"
    }
   ],
   "source": [
    "test()"
   ]
  },
  {
   "cell_type": "code",
   "execution_count": 10,
   "id": "79af9369-0b9f-4fde-9049-d5135128f1cb",
   "metadata": {},
   "outputs": [],
   "source": [
    "#*args function is used so that we can write any kind of variables inside the function and n of arguments can be passed in the function\n",
    "#**kwargs funnction is used so that it will return the values in the form of dictionary.\n",
    "\n",
    "def test(*args):\n",
    "    return args"
   ]
  },
  {
   "cell_type": "code",
   "execution_count": 12,
   "id": "1ecf9013-7126-4ab4-9f31-4c5a84de8571",
   "metadata": {},
   "outputs": [
    {
     "data": {
      "text/plain": [
       "(1, 2, 3, 4, 5, 'suraj', [1, 2, 3, 4], {1, 2, 4}, 34.56)"
      ]
     },
     "execution_count": 12,
     "metadata": {},
     "output_type": "execute_result"
    }
   ],
   "source": [
    "test(1,2,3,4,5,'suraj',[1,2,3,4],{1,2,4},34.56)"
   ]
  },
  {
   "cell_type": "code",
   "execution_count": 17,
   "id": "8e86bca5-c6d3-4eac-86d3-56de82288143",
   "metadata": {},
   "outputs": [],
   "source": [
    "def test1(**kwargs):\n",
    "    return kwargs"
   ]
  },
  {
   "cell_type": "code",
   "execution_count": 22,
   "id": "6be9663e-1018-44ca-97ce-1c41b26cfe42",
   "metadata": {},
   "outputs": [
    {
     "data": {
      "text/plain": [
       "{'third': 'Three', 'second': 'Two', 'first': 'One'}"
      ]
     },
     "execution_count": 22,
     "metadata": {},
     "output_type": "execute_result"
    }
   ],
   "source": [
    "test1( third = \"Three\", second = \"Two\", first = \"One\")"
   ]
  },
  {
   "cell_type": "code",
   "execution_count": null,
   "id": "e8624533-56bc-48b1-bdfd-cff644333fad",
   "metadata": {},
   "outputs": [],
   "source": [
    "3. An iterator is something which can be looped upon over a sequence of values\n",
    "\n",
    "iter function is used an object to iter through the sequence of values and along with iter function, \n",
    "next function is used as it enables us to go to the next sequence of values"
   ]
  },
  {
   "cell_type": "code",
   "execution_count": 27,
   "id": "1173edb0-c23c-4aab-a67a-6ae7dc4d00f9",
   "metadata": {},
   "outputs": [
    {
     "name": "stdout",
     "output_type": "stream",
     "text": [
      "2\n",
      "4\n",
      "6\n",
      "8\n",
      "10\n"
     ]
    }
   ],
   "source": [
    "l=[2, 4, 6, 8, 10, 12, 14, 16, 18, 20]\n",
    "iterator= iter(l)\n",
    "for i in range(5):\n",
    "    print(next(iterator))\n"
   ]
  },
  {
   "cell_type": "code",
   "execution_count": null,
   "id": "a338c46a-e179-40a2-a3f4-427fd5805a0a",
   "metadata": {},
   "outputs": [],
   "source": [
    "4. A generator function in Python is a special type of function that generates a sequence of \n",
    "values, one at a time as opposed to returning all the values at once like a normal function.\n",
    "\n",
    "When a generator function is called, it returns a generator object that can be iterated over using a\n",
    "loop or other iterator-based syntax. Each time the generator's next() method is called, the function\n",
    "resumes execution from the point where it left off, with all its internal variables intact.\n",
    "\n",
    "The yield keyword is used in a generator function to return a value to the calling code and \n",
    "\"pause\" the function's execution.\n"
   ]
  },
  {
   "cell_type": "code",
   "execution_count": 54,
   "id": "4de258c2-ee3c-4879-aa0b-a65297769aa5",
   "metadata": {},
   "outputs": [],
   "source": [
    "def test3(n):\n",
    "    for i in range(n):\n",
    "        yield i**2\n"
   ]
  },
  {
   "cell_type": "code",
   "execution_count": 55,
   "id": "84319c0d-b77a-4ce2-ac84-4b896f8f89de",
   "metadata": {},
   "outputs": [
    {
     "data": {
      "text/plain": [
       "<generator object test3 at 0x7fc9f5e51d90>"
      ]
     },
     "execution_count": 55,
     "metadata": {},
     "output_type": "execute_result"
    }
   ],
   "source": [
    "test3(10)"
   ]
  },
  {
   "cell_type": "code",
   "execution_count": 37,
   "id": "afa5540d-9474-40cf-bfe9-3e39f5359ff4",
   "metadata": {},
   "outputs": [
    {
     "name": "stdout",
     "output_type": "stream",
     "text": [
      "0\n",
      "1\n",
      "1\n",
      "2\n",
      "3\n",
      "5\n",
      "8\n",
      "13\n",
      "21\n",
      "34\n"
     ]
    }
   ],
   "source": [
    "#6.\n",
    "\n",
    "a,b = 0,1\n",
    "i = 0\n",
    "\n",
    "while i < 10:\n",
    "    print(a)\n",
    "    c = a + b\n",
    "    a = b\n",
    "    b = c\n",
    "    i += 1"
   ]
  },
  {
   "cell_type": "code",
   "execution_count": 44,
   "id": "325c2b4f-7b75-4267-994a-6e41fa16f87a",
   "metadata": {},
   "outputs": [
    {
     "data": {
      "text/plain": [
       "['p', 'w', 's', 'k', 'i', 'l', 'l', 's']"
      ]
     },
     "execution_count": 44,
     "metadata": {},
     "output_type": "execute_result"
    }
   ],
   "source": [
    "#7.\n",
    "\n",
    "[char for char in i if char in 'pwskills']\n",
    "\n"
   ]
  },
  {
   "cell_type": "code",
   "execution_count": 46,
   "id": "a74ebbe6-65b6-4b45-9b4e-180a1527185a",
   "metadata": {},
   "outputs": [
    {
     "data": {
      "text/plain": [
       "[1,\n",
       " 3,\n",
       " 5,\n",
       " 7,\n",
       " 9,\n",
       " 11,\n",
       " 13,\n",
       " 15,\n",
       " 17,\n",
       " 19,\n",
       " 21,\n",
       " 23,\n",
       " 25,\n",
       " 27,\n",
       " 29,\n",
       " 31,\n",
       " 33,\n",
       " 35,\n",
       " 37,\n",
       " 39,\n",
       " 41,\n",
       " 43,\n",
       " 45,\n",
       " 47,\n",
       " 49,\n",
       " 51,\n",
       " 53,\n",
       " 55,\n",
       " 57,\n",
       " 59,\n",
       " 61,\n",
       " 63,\n",
       " 65,\n",
       " 67,\n",
       " 69,\n",
       " 71,\n",
       " 73,\n",
       " 75,\n",
       " 77,\n",
       " 79,\n",
       " 81,\n",
       " 83,\n",
       " 85,\n",
       " 87,\n",
       " 89,\n",
       " 91,\n",
       " 93,\n",
       " 95,\n",
       " 97,\n",
       " 99]"
      ]
     },
     "execution_count": 46,
     "metadata": {},
     "output_type": "execute_result"
    }
   ],
   "source": [
    "#9.\n",
    "\n",
    "[num for num in range(1, 101) if num % 2 == 1]"
   ]
  },
  {
   "cell_type": "code",
   "execution_count": null,
   "id": "e847be8e-5096-41da-b3c3-68f9a7f5a38c",
   "metadata": {},
   "outputs": [],
   "source": []
  }
 ],
 "metadata": {
  "kernelspec": {
   "display_name": "Python 3 (ipykernel)",
   "language": "python",
   "name": "python3"
  },
  "language_info": {
   "codemirror_mode": {
    "name": "ipython",
    "version": 3
   },
   "file_extension": ".py",
   "mimetype": "text/x-python",
   "name": "python",
   "nbconvert_exporter": "python",
   "pygments_lexer": "ipython3",
   "version": "3.10.8"
  }
 },
 "nbformat": 4,
 "nbformat_minor": 5
}
